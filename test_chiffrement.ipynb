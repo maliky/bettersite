{
 "cells": [
  {
   "cell_type": "code",
   "execution_count": null,
   "id": "9563277f",
   "metadata": {
    "collapsed": false
   },
   "outputs": [],
   "source": [
    "%load_ext autoreload\n",
    "%autoreload 2\n",
    "# use %aimport to get set autoreload on specific module"
   ]
  },
  {
   "cell_type": "code",
   "execution_count": null,
   "id": "098acce3",
   "metadata": {
    "collapsed": false
   },
   "outputs": [],
   "source": [
    "### Chargement de la bibliothèque de fonction à tester"
   ]
  },
  {
   "cell_type": "code",
   "execution_count": null,
   "id": "69f97b88",
   "metadata": {
    "collapsed": false
   },
   "outputs": [],
   "source": [
    "from chiffrement import (décrypte_client,\n",
    "                         décrypte_clients,\n",
    "                         sauvegarde_mtp,\n",
    "                         charge_fichier_mtp,\n",
    "                         crypte_mtps,\n",
    "                         crypte_mtp,\n",
    "                         est_dans_db,\n",
    "                         recupe_info\n",
    ")\n"
   ]
  },
  {
   "cell_type": "code",
   "execution_count": null,
   "id": "fe25c84d",
   "metadata": {
    "collapsed": false
   },
   "outputs": [],
   "source": [
    "### Création d'un jeu de test"
   ]
  },
  {
   "cell_type": "code",
   "execution_count": null,
   "id": "bada4d02",
   "metadata": {
    "collapsed": false
   },
   "outputs": [],
   "source": [
    "un_client = {\"nom\": \"Charlie\", \"mtp\": \"The Kid\"}\n",
    "un_autre_client = {\"nom\": \"Aldous Huxley\", \"mtp\": \"Le meilleur des Mondes\"}\n",
    "\n",
    "des_clients = [un_client, un_autre_client]"
   ]
  },
  {
   "cell_type": "code",
   "execution_count": null,
   "id": "2ccc9f03",
   "metadata": {
    "collapsed": false
   },
   "outputs": [],
   "source": [
    "toy_key = 'lRAufiLOsaycti5e2XHecZeqEj00H6kcCm_yQdqcSH4='"
   ]
  },
  {
   "cell_type": "markdown",
   "id": "4a6d03ad",
   "metadata": {
    "collapsed": false
   },
   "source": [
    "#### Test de crypte_mtp ####"
   ]
  },
  {
   "cell_type": "code",
   "execution_count": null,
   "id": "d19fc95c",
   "metadata": {
    "collapsed": true
   },
   "outputs": [],
   "source": [
    "crypte_mtp(un_client, key=toy_key)"
   ]
  },
  {
   "cell_type": "code",
   "execution_count": null,
   "id": "3266bd77",
   "metadata": {
    "collapsed": false
   },
   "outputs": [],
   "source": [
    "### Test de crypte_mtps"
   ]
  },
  {
   "cell_type": "code",
   "execution_count": null,
   "id": "4e510d9e",
   "metadata": {
    "collapsed": false
   },
   "outputs": [],
   "source": [
    "chiffrement1 = crypte_mtps(des_clients, key=toy_key)\n",
    "chiffrement2 = crypte_mtps(des_clients, key=toy_key)"
   ]
  },
  {
   "cell_type": "code",
   "execution_count": null,
   "id": "0899e48a",
   "metadata": {
    "collapsed": false
   },
   "outputs": [],
   "source": [
    "chiffrement1"
   ]
  },
  {
   "cell_type": "code",
   "execution_count": null,
   "id": "677cff79",
   "metadata": {
    "collapsed": false
   },
   "outputs": [],
   "source": [
    "chiffrement2"
   ]
  },
  {
   "cell_type": "markdown",
   "id": "3852a3de",
   "metadata": {
    "collapsed": false
   },
   "source": [
    "On remarque qu'avec une même clef on obtient des chiffrements différents"
   ]
  },
  {
   "cell_type": "markdown",
   "id": "2d2c2e24",
   "metadata": {
    "collapsed": false
   },
   "source": [
    "### Test de décrypte_client"
   ]
  },
  {
   "cell_type": "code",
   "execution_count": null,
   "id": "c5e9c842",
   "metadata": {
    "collapsed": false
   },
   "outputs": [],
   "source": [
    "# un client au mtp chiffré\n",
    "\n",
    "un_client_chiffre = chiffrement1[0]\n",
    "un_client_chiffre"
   ]
  },
  {
   "cell_type": "code",
   "execution_count": null,
   "id": "a73e485c",
   "metadata": {
    "collapsed": false
   },
   "outputs": [],
   "source": [
    "décrypte_client(un_client_chiffre, key=toy_key)"
   ]
  },
  {
   "cell_type": "markdown",
   "id": "cc6715c1",
   "metadata": {
    "collapsed": false
   },
   "source": [
    "### Test de décrypte_clients"
   ]
  },
  {
   "cell_type": "code",
   "execution_count": 16,
   "id": "a996fcca",
   "metadata": {
    "collapsed": false
   },
   "outputs": [
    {
     "data": {
      "text/plain": [
       "[{'nom': 'Charlie', 'mtp': 'The Kid'},\n",
       " {'nom': 'Aldous Huxley', 'mtp': 'Le meilleur des Mondes'}]"
      ]
     },
     "execution_count": 16,
     "metadata": {},
     "output_type": "execute_result"
    }
   ],
   "source": [
    "décrypte_clients(chiffrement1, key=toy_key)\n"
   ]
  },
  {
   "cell_type": "code",
   "execution_count": 17,
   "id": "2375b665",
   "metadata": {
    "collapsed": false
   },
   "outputs": [
    {
     "data": {
      "text/plain": [
       "[{'nom': 'Charlie', 'mtp': 'The Kid'},\n",
       " {'nom': 'Aldous Huxley', 'mtp': 'Le meilleur des Mondes'}]"
      ]
     },
     "execution_count": 17,
     "metadata": {},
     "output_type": "execute_result"
    }
   ],
   "source": [
    "décrypte_clients(chiffrement2, key=toy_key)"
   ]
  },
  {
   "cell_type": "markdown",
   "id": "081a27cb",
   "metadata": {
    "collapsed": false
   },
   "source": [
    "On remarque que bien que les chiffrements aient été différent, nous pouvons retrouvons l'antécédent"
   ]
  },
  {
   "cell_type": "markdown",
   "id": "43367953",
   "metadata": {
    "collapsed": false
   },
   "source": [
    "### Test de la sauvegarde dans un fichier"
   ]
  },
  {
   "cell_type": "code",
   "execution_count": 19,
   "id": "a4895811",
   "metadata": {
    "collapsed": false
   },
   "outputs": [],
   "source": [
    "sauvegarde_mtp(chiffrement1, nom_fichier=\"bd.test.tsv\")"
   ]
  },
  {
   "cell_type": "code",
   "execution_count": 20,
   "id": "d55f29bb",
   "metadata": {
    "collapsed": false
   },
   "outputs": [
    {
     "name": "stdout",
     "output_type": "stream",
     "text": [
      "Charlie\tgAAAAABiJmtXNBsbuXFIKFFZ7613P9VtN374Flz6KXJsh0yf_VHobp1p03Kqq6av_qpjrRcnhYHvkSyhShCPf9BjjfRvMCsB9w==\r\n",
      "Aldous Huxley\tgAAAAABiJmtXqOZOrYAp7KQyNsHPsRT5k6mghN4JBczHVYnXteB-sUwbwYsOTyTjunAybu8xWl_BOpuDjBpyvMkmJQp5eC7FJOWHhAutWSiVuNT0OybuMck=\r\n"
     ]
    }
   ],
   "source": [
    "!cat bd.test.tsv"
   ]
  },
  {
   "cell_type": "markdown",
   "id": "189b1dfe",
   "metadata": {
    "collapsed": false
   },
   "source": [
    "### Test du chargement du fichier des mots de passe"
   ]
  },
  {
   "cell_type": "code",
   "execution_count": 24,
   "id": "a7291be7",
   "metadata": {
    "collapsed": false
   },
   "outputs": [
    {
     "data": {
      "text/plain": [
       "[{'nom': 'Charlie',\n",
       "  'mtp': b'gAAAAABiJmtXNBsbuXFIKFFZ7613P9VtN374Flz6KXJsh0yf_VHobp1p03Kqq6av_qpjrRcnhYHvkSyhShCPf9BjjfRvMCsB9w=='},\n",
       " {'nom': 'Aldous Huxley',\n",
       "  'mtp': b'gAAAAABiJmtXqOZOrYAp7KQyNsHPsRT5k6mghN4JBczHVYnXteB-sUwbwYsOTyTjunAybu8xWl_BOpuDjBpyvMkmJQp5eC7FJOWHhAutWSiVuNT0OybuMck='}]"
      ]
     },
     "execution_count": 24,
     "metadata": {},
     "output_type": "execute_result"
    }
   ],
   "source": [
    "charge_fichier_mtp(\"bd.test.tsv\")"
   ]
  },
  {
   "cell_type": "markdown",
   "id": "5cedbacf",
   "metadata": {
    "collapsed": false
   },
   "source": [
    "### Test de la fonction qui vérifie l'existence du client dans la base de donnée"
   ]
  },
  {
   "cell_type": "code",
   "execution_count": 33,
   "id": "ed528c6c",
   "metadata": {
    "collapsed": false
   },
   "outputs": [
    {
     "data": {
      "text/plain": [
       "True"
      ]
     },
     "execution_count": 33,
     "metadata": {},
     "output_type": "execute_result"
    }
   ],
   "source": [
    "client_a_tester = {\"nom\": \"Charlie\", \"mtp\": \"The Kid\"}\n",
    "\n",
    "est_dans_db(client_a_tester, \"bd.test.tsv\", key=toy_key)\n"
   ]
  }
 ],
 "metadata": {
  "kernelspec": {
   "argv": [
    "python",
    "-m",
    "ipykernel_launcher",
    "-f",
    "{connection_file}"
   ],
   "display_name": "Python 3",
   "env": null,
   "interrupt_mode": "signal",
   "language": "python",
   "metadata": null,
   "name": "python3"
  },
  "name": "test_chiffrement.ipynb"
 },
 "nbformat": 4,
 "nbformat_minor": 5
}
